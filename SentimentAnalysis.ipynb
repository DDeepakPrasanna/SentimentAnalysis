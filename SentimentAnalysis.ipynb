{
 "cells": [
  {
   "cell_type": "code",
   "execution_count": 1,
   "metadata": {},
   "outputs": [],
   "source": [
    "import pandas as pd\n",
    "df = pd.read_fwf(r'C:\\Users\\D Deepak Prasanna\\Desktop\\class\\Internship\\Major Project\\Reviews.txt',header=None,index=False,names=['Rating', 'Review'])"
   ]
  },
  {
   "cell_type": "code",
   "execution_count": 2,
   "metadata": {},
   "outputs": [
    {
     "data": {
      "text/html": [
       "<div>\n",
       "<style scoped>\n",
       "    .dataframe tbody tr th:only-of-type {\n",
       "        vertical-align: middle;\n",
       "    }\n",
       "\n",
       "    .dataframe tbody tr th {\n",
       "        vertical-align: top;\n",
       "    }\n",
       "\n",
       "    .dataframe thead th {\n",
       "        text-align: right;\n",
       "    }\n",
       "</style>\n",
       "<table border=\"1\" class=\"dataframe\">\n",
       "  <thead>\n",
       "    <tr style=\"text-align: right;\">\n",
       "      <th></th>\n",
       "      <th>Rating</th>\n",
       "      <th>Review</th>\n",
       "    </tr>\n",
       "  </thead>\n",
       "  <tbody>\n",
       "    <tr>\n",
       "      <td>0</td>\n",
       "      <td>__label__2</td>\n",
       "      <td>Great CD: My lovely Pat has one of the GREAT v...</td>\n",
       "    </tr>\n",
       "    <tr>\n",
       "      <td>1</td>\n",
       "      <td>__label__2</td>\n",
       "      <td>One of the best game music soundtracks - for a...</td>\n",
       "    </tr>\n",
       "    <tr>\n",
       "      <td>2</td>\n",
       "      <td>__label__1</td>\n",
       "      <td>Batteries died within a year ...: I bought thi...</td>\n",
       "    </tr>\n",
       "    <tr>\n",
       "      <td>3</td>\n",
       "      <td>__label__2</td>\n",
       "      <td>works fine, but Maha Energy is better: Check o...</td>\n",
       "    </tr>\n",
       "    <tr>\n",
       "      <td>4</td>\n",
       "      <td>__label__2</td>\n",
       "      <td>Great for the non-audiophile: Reviewed quite a...</td>\n",
       "    </tr>\n",
       "  </tbody>\n",
       "</table>\n",
       "</div>"
      ],
      "text/plain": [
       "       Rating                                             Review\n",
       "0  __label__2  Great CD: My lovely Pat has one of the GREAT v...\n",
       "1  __label__2  One of the best game music soundtracks - for a...\n",
       "2  __label__1  Batteries died within a year ...: I bought thi...\n",
       "3  __label__2  works fine, but Maha Energy is better: Check o...\n",
       "4  __label__2  Great for the non-audiophile: Reviewed quite a..."
      ]
     },
     "execution_count": 2,
     "metadata": {},
     "output_type": "execute_result"
    }
   ],
   "source": [
    "df.head()"
   ]
  },
  {
   "cell_type": "code",
   "execution_count": 3,
   "metadata": {},
   "outputs": [],
   "source": [
    "df['Rating'] = df['Rating'].replace(['__label__1'],'Negative')\n",
    "df['Rating'] = df['Rating'].replace(['__label__2'],'Positive')"
   ]
  },
  {
   "cell_type": "code",
   "execution_count": 4,
   "metadata": {},
   "outputs": [
    {
     "data": {
      "text/html": [
       "<div>\n",
       "<style scoped>\n",
       "    .dataframe tbody tr th:only-of-type {\n",
       "        vertical-align: middle;\n",
       "    }\n",
       "\n",
       "    .dataframe tbody tr th {\n",
       "        vertical-align: top;\n",
       "    }\n",
       "\n",
       "    .dataframe thead th {\n",
       "        text-align: right;\n",
       "    }\n",
       "</style>\n",
       "<table border=\"1\" class=\"dataframe\">\n",
       "  <thead>\n",
       "    <tr style=\"text-align: right;\">\n",
       "      <th></th>\n",
       "      <th>Rating</th>\n",
       "      <th>Review</th>\n",
       "    </tr>\n",
       "  </thead>\n",
       "  <tbody>\n",
       "    <tr>\n",
       "      <td>0</td>\n",
       "      <td>Positive</td>\n",
       "      <td>Great CD: My lovely Pat has one of the GREAT v...</td>\n",
       "    </tr>\n",
       "    <tr>\n",
       "      <td>1</td>\n",
       "      <td>Positive</td>\n",
       "      <td>One of the best game music soundtracks - for a...</td>\n",
       "    </tr>\n",
       "    <tr>\n",
       "      <td>2</td>\n",
       "      <td>Negative</td>\n",
       "      <td>Batteries died within a year ...: I bought thi...</td>\n",
       "    </tr>\n",
       "    <tr>\n",
       "      <td>3</td>\n",
       "      <td>Positive</td>\n",
       "      <td>works fine, but Maha Energy is better: Check o...</td>\n",
       "    </tr>\n",
       "    <tr>\n",
       "      <td>4</td>\n",
       "      <td>Positive</td>\n",
       "      <td>Great for the non-audiophile: Reviewed quite a...</td>\n",
       "    </tr>\n",
       "  </tbody>\n",
       "</table>\n",
       "</div>"
      ],
      "text/plain": [
       "     Rating                                             Review\n",
       "0  Positive  Great CD: My lovely Pat has one of the GREAT v...\n",
       "1  Positive  One of the best game music soundtracks - for a...\n",
       "2  Negative  Batteries died within a year ...: I bought thi...\n",
       "3  Positive  works fine, but Maha Energy is better: Check o...\n",
       "4  Positive  Great for the non-audiophile: Reviewed quite a..."
      ]
     },
     "execution_count": 4,
     "metadata": {},
     "output_type": "execute_result"
    }
   ],
   "source": [
    "df.head()"
   ]
  },
  {
   "cell_type": "code",
   "execution_count": 5,
   "metadata": {},
   "outputs": [
    {
     "name": "stderr",
     "output_type": "stream",
     "text": [
      "[nltk_data] Downloading package stopwords to C:\\Users\\D Deepak\n",
      "[nltk_data]     Prasanna\\AppData\\Roaming\\nltk_data...\n",
      "[nltk_data]   Package stopwords is already up-to-date!\n"
     ]
    }
   ],
   "source": [
    "import nltk\n",
    "nltk.download('stopwords')\n",
    "stopwords_list = nltk.corpus.stopwords.words('english')\n",
    "stopwords_list.remove('no')\n",
    "stopwords_list.remove('not')"
   ]
  },
  {
   "cell_type": "code",
   "execution_count": 6,
   "metadata": {},
   "outputs": [],
   "source": [
    "# import re\n",
    "# def remove_sp(text):\n",
    "#   pattern = r'[^A-Za-z0-9\\s]'\n",
    "#   text = re.sub(pattern,\"\",text)\n",
    "#   return text"
   ]
  },
  {
   "cell_type": "code",
   "execution_count": 7,
   "metadata": {},
   "outputs": [],
   "source": [
    "df['Rating'] = df['Rating'].replace(['__label__1'],'Negative')\n",
    "df['Rating'] = df['Rating'].replace(['__label__2'],'Positive')"
   ]
  },
  {
   "cell_type": "code",
   "execution_count": 8,
   "metadata": {},
   "outputs": [
    {
     "data": {
      "text/html": [
       "<div>\n",
       "<style scoped>\n",
       "    .dataframe tbody tr th:only-of-type {\n",
       "        vertical-align: middle;\n",
       "    }\n",
       "\n",
       "    .dataframe tbody tr th {\n",
       "        vertical-align: top;\n",
       "    }\n",
       "\n",
       "    .dataframe thead th {\n",
       "        text-align: right;\n",
       "    }\n",
       "</style>\n",
       "<table border=\"1\" class=\"dataframe\">\n",
       "  <thead>\n",
       "    <tr style=\"text-align: right;\">\n",
       "      <th></th>\n",
       "      <th>Rating</th>\n",
       "      <th>Review</th>\n",
       "    </tr>\n",
       "  </thead>\n",
       "  <tbody>\n",
       "    <tr>\n",
       "      <td>0</td>\n",
       "      <td>Positive</td>\n",
       "      <td>Great CD: My lovely Pat has one of the GREAT v...</td>\n",
       "    </tr>\n",
       "    <tr>\n",
       "      <td>1</td>\n",
       "      <td>Positive</td>\n",
       "      <td>One of the best game music soundtracks - for a...</td>\n",
       "    </tr>\n",
       "    <tr>\n",
       "      <td>2</td>\n",
       "      <td>Negative</td>\n",
       "      <td>Batteries died within a year ...: I bought thi...</td>\n",
       "    </tr>\n",
       "    <tr>\n",
       "      <td>3</td>\n",
       "      <td>Positive</td>\n",
       "      <td>works fine, but Maha Energy is better: Check o...</td>\n",
       "    </tr>\n",
       "    <tr>\n",
       "      <td>4</td>\n",
       "      <td>Positive</td>\n",
       "      <td>Great for the non-audiophile: Reviewed quite a...</td>\n",
       "    </tr>\n",
       "    <tr>\n",
       "      <td>...</td>\n",
       "      <td>...</td>\n",
       "      <td>...</td>\n",
       "    </tr>\n",
       "    <tr>\n",
       "      <td>399995</td>\n",
       "      <td>Negative</td>\n",
       "      <td>Unbelievable- In a Bad Way: We bought this Tho...</td>\n",
       "    </tr>\n",
       "    <tr>\n",
       "      <td>399996</td>\n",
       "      <td>Negative</td>\n",
       "      <td>Almost Great, Until it Broke...: My son reciev...</td>\n",
       "    </tr>\n",
       "    <tr>\n",
       "      <td>399997</td>\n",
       "      <td>Negative</td>\n",
       "      <td>Disappointed !!!: I bought this toy for my son...</td>\n",
       "    </tr>\n",
       "    <tr>\n",
       "      <td>399998</td>\n",
       "      <td>Positive</td>\n",
       "      <td>Classic Jessica Mitford: This is a compilation...</td>\n",
       "    </tr>\n",
       "    <tr>\n",
       "      <td>399999</td>\n",
       "      <td>Negative</td>\n",
       "      <td>Comedy Scene, and Not Heard: This DVD will be ...</td>\n",
       "    </tr>\n",
       "  </tbody>\n",
       "</table>\n",
       "<p>400000 rows × 2 columns</p>\n",
       "</div>"
      ],
      "text/plain": [
       "          Rating                                             Review\n",
       "0       Positive  Great CD: My lovely Pat has one of the GREAT v...\n",
       "1       Positive  One of the best game music soundtracks - for a...\n",
       "2       Negative  Batteries died within a year ...: I bought thi...\n",
       "3       Positive  works fine, but Maha Energy is better: Check o...\n",
       "4       Positive  Great for the non-audiophile: Reviewed quite a...\n",
       "...          ...                                                ...\n",
       "399995  Negative  Unbelievable- In a Bad Way: We bought this Tho...\n",
       "399996  Negative  Almost Great, Until it Broke...: My son reciev...\n",
       "399997  Negative  Disappointed !!!: I bought this toy for my son...\n",
       "399998  Positive  Classic Jessica Mitford: This is a compilation...\n",
       "399999  Negative  Comedy Scene, and Not Heard: This DVD will be ...\n",
       "\n",
       "[400000 rows x 2 columns]"
      ]
     },
     "execution_count": 8,
     "metadata": {},
     "output_type": "execute_result"
    }
   ],
   "source": [
    "df"
   ]
  },
  {
   "cell_type": "code",
   "execution_count": 9,
   "metadata": {},
   "outputs": [],
   "source": [
    "import re\n",
    "import string\n",
    "#remove special characters\n",
    "def remove_sp(text):\n",
    "    text = text.lower()\n",
    "    text = re.sub('\\[.*?\\]',\"\",text)\n",
    "    text = re.sub('[%s]' %re.escape(string.punctuation), \"\", text)\n",
    "    text = re.sub('\\w*\\d\\w',\"\",text)\n",
    "    text = re.sub('[''\"\"_]', \"\", text)\n",
    "    text = re.sub('\\n',\"\", text)\n",
    "    return text\n",
    "\n",
    "cleaned = lambda x:remove_sp(x)"
   ]
  },
  {
   "cell_type": "code",
   "execution_count": 10,
   "metadata": {},
   "outputs": [],
   "source": [
    "df['Review'] = df['Review'].apply(cleaned)"
   ]
  },
  {
   "cell_type": "code",
   "execution_count": 11,
   "metadata": {},
   "outputs": [],
   "source": [
    "from nltk.tokenize.toktok import ToktokTokenizer\n",
    "tokenizer = ToktokTokenizer()\n",
    "\n",
    "#remove stopwords\n",
    "def remove_stopwords(text):\n",
    "  tokens = tokenizer.tokenize(text)\n",
    "  tokens = [token.strip() for token in tokens]\n",
    "  filtered_tokens = [token for token in tokens if token not in stopwords_list]\n",
    "  filtered_text = ' '.join(filtered_tokens)\n",
    "  return filtered_text\n",
    "\n",
    "cleaned2 = lambda x:remove_stopwords(x)"
   ]
  },
  {
   "cell_type": "code",
   "execution_count": 12,
   "metadata": {},
   "outputs": [],
   "source": [
    "df['Review'] = df['Review'].apply(cleaned2)"
   ]
  },
  {
   "cell_type": "code",
   "execution_count": 13,
   "metadata": {},
   "outputs": [
    {
     "data": {
      "text/html": [
       "<div>\n",
       "<style scoped>\n",
       "    .dataframe tbody tr th:only-of-type {\n",
       "        vertical-align: middle;\n",
       "    }\n",
       "\n",
       "    .dataframe tbody tr th {\n",
       "        vertical-align: top;\n",
       "    }\n",
       "\n",
       "    .dataframe thead th {\n",
       "        text-align: right;\n",
       "    }\n",
       "</style>\n",
       "<table border=\"1\" class=\"dataframe\">\n",
       "  <thead>\n",
       "    <tr style=\"text-align: right;\">\n",
       "      <th></th>\n",
       "      <th>Rating</th>\n",
       "      <th>Review</th>\n",
       "    </tr>\n",
       "  </thead>\n",
       "  <tbody>\n",
       "    <tr>\n",
       "      <td>0</td>\n",
       "      <td>Positive</td>\n",
       "      <td>great cd lovely pat one great voices generatio...</td>\n",
       "    </tr>\n",
       "    <tr>\n",
       "      <td>1</td>\n",
       "      <td>Positive</td>\n",
       "      <td>one best game music soundtracks game didnt rea...</td>\n",
       "    </tr>\n",
       "    <tr>\n",
       "      <td>2</td>\n",
       "      <td>Negative</td>\n",
       "      <td>batteries died within year bought charger jul ...</td>\n",
       "    </tr>\n",
       "    <tr>\n",
       "      <td>3</td>\n",
       "      <td>Positive</td>\n",
       "      <td>works fine maha energy better check maha energ...</td>\n",
       "    </tr>\n",
       "    <tr>\n",
       "      <td>4</td>\n",
       "      <td>Positive</td>\n",
       "      <td>great nonaudiophile reviewed quite bit combo p...</td>\n",
       "    </tr>\n",
       "    <tr>\n",
       "      <td>...</td>\n",
       "      <td>...</td>\n",
       "      <td>...</td>\n",
       "    </tr>\n",
       "    <tr>\n",
       "      <td>399995</td>\n",
       "      <td>Negative</td>\n",
       "      <td>unbelievable bad way bought thomas son huge th...</td>\n",
       "    </tr>\n",
       "    <tr>\n",
       "      <td>399996</td>\n",
       "      <td>Negative</td>\n",
       "      <td>almost great broke son recieved birthday gift ...</td>\n",
       "    </tr>\n",
       "    <tr>\n",
       "      <td>399997</td>\n",
       "      <td>Negative</td>\n",
       "      <td>disappointed bought toy son loves thomas toys ...</td>\n",
       "    </tr>\n",
       "    <tr>\n",
       "      <td>399998</td>\n",
       "      <td>Positive</td>\n",
       "      <td>classic jessica mitford compilation wide range...</td>\n",
       "    </tr>\n",
       "    <tr>\n",
       "      <td>399999</td>\n",
       "      <td>Negative</td>\n",
       "      <td>comedy scene not heard dvd disappointment get ...</td>\n",
       "    </tr>\n",
       "  </tbody>\n",
       "</table>\n",
       "<p>400000 rows × 2 columns</p>\n",
       "</div>"
      ],
      "text/plain": [
       "          Rating                                             Review\n",
       "0       Positive  great cd lovely pat one great voices generatio...\n",
       "1       Positive  one best game music soundtracks game didnt rea...\n",
       "2       Negative  batteries died within year bought charger jul ...\n",
       "3       Positive  works fine maha energy better check maha energ...\n",
       "4       Positive  great nonaudiophile reviewed quite bit combo p...\n",
       "...          ...                                                ...\n",
       "399995  Negative  unbelievable bad way bought thomas son huge th...\n",
       "399996  Negative  almost great broke son recieved birthday gift ...\n",
       "399997  Negative  disappointed bought toy son loves thomas toys ...\n",
       "399998  Positive  classic jessica mitford compilation wide range...\n",
       "399999  Negative  comedy scene not heard dvd disappointment get ...\n",
       "\n",
       "[400000 rows x 2 columns]"
      ]
     },
     "execution_count": 13,
     "metadata": {},
     "output_type": "execute_result"
    }
   ],
   "source": [
    "# df.Review = df.Review.apply(lambda x:x.lower())\n",
    "\n",
    "# df.Review = df.Review.apply(remove_sp)\n",
    "\n",
    "# df.Review = df.Review.apply(remove_stopwords)\n",
    "\n",
    "df"
   ]
  },
  {
   "cell_type": "code",
   "execution_count": 14,
   "metadata": {},
   "outputs": [],
   "source": [
    "x = df['Review'].values\n",
    "y = df['Rating'].values"
   ]
  },
  {
   "cell_type": "code",
   "execution_count": 15,
   "metadata": {},
   "outputs": [],
   "source": [
    "from sklearn.model_selection import train_test_split\n",
    "x_train, x_test, y_train, y_test = train_test_split(x,y,test_size = 0.55,random_state = 4)"
   ]
  },
  {
   "cell_type": "code",
   "execution_count": 16,
   "metadata": {},
   "outputs": [],
   "source": [
    "from sklearn.feature_extraction.text import TfidfVectorizer\n",
    "from sklearn.naive_bayes import MultinomialNB\n",
    "from sklearn.pipeline import make_pipeline\n",
    "\n",
    "clf = make_pipeline(TfidfVectorizer(), MultinomialNB())"
   ]
  },
  {
   "cell_type": "code",
   "execution_count": 17,
   "metadata": {},
   "outputs": [],
   "source": [
    "clf.fit(x_train, y_train)\n",
    "predicted = clf.predict(x_test)"
   ]
  },
  {
   "cell_type": "code",
   "execution_count": 18,
   "metadata": {},
   "outputs": [
    {
     "name": "stdout",
     "output_type": "stream",
     "text": [
      "0.8454416116290381\n",
      "[[95930 14051]\n",
      " [19952 90068]]\n"
     ]
    }
   ],
   "source": [
    "from  sklearn.metrics  import accuracy_score,confusion_matrix\n",
    "predicted = clf.predict(x_test)\n",
    "print(accuracy_score(y_test,predicted))\n",
    "print(confusion_matrix(y_test,predicted))"
   ]
  },
  {
   "cell_type": "code",
   "execution_count": 19,
   "metadata": {},
   "outputs": [
    {
     "data": {
      "text/plain": [
       "array(['Positive', 'Positive', 'Negative', ..., 'Negative', 'Positive',\n",
       "       'Negative'], dtype='<U8')"
      ]
     },
     "execution_count": 19,
     "metadata": {},
     "output_type": "execute_result"
    }
   ],
   "source": [
    "predicted"
   ]
  },
  {
   "cell_type": "code",
   "execution_count": 20,
   "metadata": {},
   "outputs": [
    {
     "data": {
      "text/plain": [
       "array(['Positive', 'Positive', 'Negative', ..., 'Positive', 'Positive',\n",
       "       'Negative'], dtype=object)"
      ]
     },
     "execution_count": 20,
     "metadata": {},
     "output_type": "execute_result"
    }
   ],
   "source": [
    "y_test"
   ]
  },
  {
   "cell_type": "code",
   "execution_count": 21,
   "metadata": {},
   "outputs": [],
   "source": [
    "import pickle\n",
    "pickle.dump(clf,open('SentimentAnalysis.p','wb'))"
   ]
  },
  {
   "cell_type": "code",
   "execution_count": 22,
   "metadata": {},
   "outputs": [],
   "source": [
    "model = pickle.load(open('SentimentAnalysis.p','rb'))"
   ]
  },
  {
   "cell_type": "code",
   "execution_count": 25,
   "metadata": {},
   "outputs": [
    {
     "name": "stdout",
     "output_type": "stream",
     "text": [
      "Enter Text: one of the last in the series to collect !: The magazine was in very good condition and had the usual high standard of articles and photos that Victoria magazine has come to represent. I have collected all the previous magazines of the series and still enjoy leafing through them on a rainy day\n",
      "['one last series collect magazine good condition usual high standard articles photos victoria magazine come represent collected previous magazines series still enjoy leafing rainy day']\n",
      "Predicted output: ['Positive']\n",
      "Negative : 27.73440301727624%\n",
      "Positive : 72.26559698272362%\n"
     ]
    }
   ],
   "source": [
    "text = input(\"Enter Text: \")\n",
    "text = text.lower()\n",
    "text = remove_sp(text)\n",
    "text = remove_stopwords(text)\n",
    "text = [text]\n",
    "print(text)\n",
    "y_out = model.predict(text)\n",
    "print(f'Predicted output: {y_out}')\n",
    "CATEGORIES = ['Negative', 'Positive']\n",
    "q = model.predict_proba(text)\n",
    "for index, item in enumerate(CATEGORIES):\n",
    "      print(f'{item} : {q[0][index]*100}%')"
   ]
  },
  {
   "cell_type": "code",
   "execution_count": 28,
   "metadata": {},
   "outputs": [
    {
     "name": "stdout",
     "output_type": "stream",
     "text": [
      "Overwriting app.py\n"
     ]
    }
   ],
   "source": [
    "%%writefile app.py\n",
    "import streamlit as st\n",
    "from PIL import Image\n",
    "import os\n",
    "import matplotlib.pyplot as plt\n",
    "import numpy as np\n",
    "import nltk\n",
    "import re\n",
    "import string\n",
    "import pickle\n",
    "from nltk.tokenize.toktok import ToktokTokenizer\n",
    "from sklearn.feature_extraction.text import TfidfTransformer\n",
    "from sklearn.feature_extraction.text import TfidfVectorizer\n",
    "from sklearn.naive_bayes import MultinomialNB\n",
    "from nltk.tokenize.toktok import ToktokTokenizer\n",
    "tokenizer = ToktokTokenizer()\n",
    "import nltk\n",
    "nltk.download('stopwords')\n",
    "stopwords_list = nltk.corpus.stopwords.words('english')\n",
    "stopwords_list.remove('no')\n",
    "stopwords_list.remove('not')\n",
    "model = pickle.load(open('SentimentAnalysis.p','rb'))\n",
    "\n",
    "st.title(\"Sentiment Analysis\")\n",
    "\n",
    "nav = st.sidebar.radio(\"Navigation\",[\"Home\", \"Prediction\"])\n",
    "\n",
    "if nav == \"Home\":\n",
    "    image = Image.open(r\"C:\\Users\\D Deepak Prasanna\\Desktop\\class\\Internship\\Major Project\\image.jfif\")\n",
    "    st.image(image,width = 500)\n",
    "    st.write(\"Opinion information is very important for businesses and manufacturers. They often want to know in time what consumers and the public  think of their products and services. However, it is not realistic to manually read every post on the website and extract useful viewpoint information from it. If you do it manually, there is too much data. Sentiment analysis allows large-scale processing of data in an efficient and cost-effective manner. This project used a dataset of the Amazon reviews and then built a model to predict the sentiment of the comment given the comment declaration by using Python and machine learning algorithm- Naïve Bayes.\")\n",
    "if nav == \"Prediction\":\n",
    "    st.subheader(\"Enter Text: \")\n",
    "    text = st.text_input(\" \")\n",
    "    st.write(\"Please click Enter after typing the text and then proceed to click Predict button\")\n",
    "\n",
    "    def remove_sp(text):\n",
    "            text = text.lower()\n",
    "            text = re.sub('\\[.*?\\]',\"\",text)\n",
    "            text = re.sub('[%s]' %re.escape(string.punctuation), \"\", text)\n",
    "            text = re.sub('\\w*\\d\\w',\"\",text)\n",
    "            text = re.sub('[''\"\"_]', \"\", text)\n",
    "            text = re.sub('\\n',\"\", text)\n",
    "            return text\n",
    "\n",
    "        #remove stopwords\n",
    "    def remove_stopwords(text):\n",
    "      tokens = tokenizer.tokenize(text)\n",
    "      tokens = [token.strip() for token in tokens]\n",
    "      filtered_tokens = [token for token in tokens if token not in stopwords_list]\n",
    "      filtered_text = ' '.join(filtered_tokens)\n",
    "      return filtered_text\n",
    "\n",
    "    text = text.lower()\n",
    "    text = remove_sp(text)\n",
    "    text = remove_stopwords(text)\n",
    "    st.write('Text after proceesing: ',text)\n",
    "    text = [text]\n",
    "    y_out = model.predict(text)\n",
    "\n",
    "    if st.button(\"Predict\"):\n",
    "\n",
    "        st.write(f'PREDICTED OUTPUT: {y_out}')\n",
    "\n",
    "        if (y_out == \"Positive\"):\n",
    "            st.write(\"😊\")\n",
    "        else:\n",
    "            st.write(\"😞\")\n",
    "\n",
    "        CATEGORIES = ['Negative', 'Positive']\n",
    "        q = model.predict_proba(text)\n",
    "        for index, item in enumerate(CATEGORIES):\n",
    "              st.write(f'{item} : {q[0][index]*100}%')"
   ]
  },
  {
   "cell_type": "code",
   "execution_count": null,
   "metadata": {},
   "outputs": [],
   "source": []
  }
 ],
 "metadata": {
  "kernelspec": {
   "display_name": "Python 3",
   "language": "python",
   "name": "python3"
  },
  "language_info": {
   "codemirror_mode": {
    "name": "ipython",
    "version": 3
   },
   "file_extension": ".py",
   "mimetype": "text/x-python",
   "name": "python",
   "nbconvert_exporter": "python",
   "pygments_lexer": "ipython3",
   "version": "3.6.9"
  }
 },
 "nbformat": 4,
 "nbformat_minor": 2
}
